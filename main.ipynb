{
 "cells": [
  {
   "cell_type": "markdown",
   "id": "d84e84e3-21c6-47f6-9b36-d8fc9a182420",
   "metadata": {},
   "source": [
    "# Syracuse University Basketball Analytics Challenge\n",
    "## Tulane University - Spring 2023 - New Orleans, LA\n",
    "-----\n",
    "**Mikey Sison, Hayden Outlaw, Isaac Popper, Nic Rioja, Max Yazdian** for Tulane Sports Analytics Club\n",
    "\n"
   ]
  },
  {
   "cell_type": "code",
   "execution_count": null,
   "id": "4f74fde8-8b51-4793-b585-9e7c3eb9bc6c",
   "metadata": {},
   "outputs": [],
   "source": []
  }
 ],
 "metadata": {
  "kernelspec": {
   "display_name": "Python 3 (ipykernel)",
   "language": "python",
   "name": "python3"
  },
  "language_info": {
   "codemirror_mode": {
    "name": "ipython",
    "version": 3
   },
   "file_extension": ".py",
   "mimetype": "text/x-python",
   "name": "python",
   "nbconvert_exporter": "python",
   "pygments_lexer": "ipython3",
   "version": "3.8.13"
  }
 },
 "nbformat": 4,
 "nbformat_minor": 5
}
